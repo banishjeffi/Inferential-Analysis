{
 "cells": [
  {
   "cell_type": "markdown",
   "id": "34e68dc3",
   "metadata": {},
   "source": [
    "<h1 align=\"center\"> <img src=\"https://www.hopelearning.net/wp-content/uploads/2020/09/LogoNew.webp\" alt=\"Hope AI\" class=\"bg-primary\" width=\"110px\"> &ensp; Hope Artificial Intelligence</h1>"
   ]
  },
  {
   "cell_type": "markdown",
   "id": "731537b7-b4a5-48ab-a01e-308f2e7c13e4",
   "metadata": {},
   "source": [
    "<h2 align=\"center\"> Inferential Data Analysis </h2>"
   ]
  },
  {
   "cell_type": "code",
   "execution_count": null,
   "id": "1ff283ee-d85c-4f84-ae46-695276b1b3c4",
   "metadata": {},
   "outputs": [],
   "source": [
    "import pandas as pd\n",
    "import scipy.stats as stats\n",
    "import seaborn as sns\n",
    "from matplotlib import pyplot\n",
    "from scipy.stats import norm"
   ]
  },
  {
   "cell_type": "code",
   "execution_count": null,
   "id": "a518b5ac-34af-45a1-8a63-6d6c81cd1a93",
   "metadata": {},
   "outputs": [],
   "source": [
    "dataset = pd.read_csv(\"Placement.csv\")"
   ]
  },
  {
   "cell_type": "code",
   "execution_count": null,
   "id": "2881d9ce-43d6-442c-b727-8e8ada05dd6a",
   "metadata": {},
   "outputs": [],
   "source": [
    "dataset"
   ]
  },
  {
   "cell_type": "markdown",
   "id": "15e6311d",
   "metadata": {
    "jp-MarkdownHeadingCollapsed": true
   },
   "source": [
    "#### 1) Replace the NaN values with correct value."
   ]
  },
  {
   "cell_type": "code",
   "execution_count": null,
   "id": "ff551bf8-8656-40f6-801e-c38b28b9114f",
   "metadata": {},
   "outputs": [],
   "source": [
    "dataset.isna().sum()"
   ]
  },
  {
   "cell_type": "code",
   "execution_count": null,
   "id": "f1647453-718e-4c4e-ba48-6fffb512826a",
   "metadata": {},
   "outputs": [],
   "source": [
    "dataset[\"salary\"].fillna(0,inplace=True)"
   ]
  },
  {
   "cell_type": "code",
   "execution_count": null,
   "id": "c0f2a5ef-19d8-4b03-87d4-d94604dd55ea",
   "metadata": {},
   "outputs": [],
   "source": [
    "dataset.isna().sum()"
   ]
  },
  {
   "cell_type": "markdown",
   "id": "7a8eecd2",
   "metadata": {
    "jp-MarkdownHeadingCollapsed": true
   },
   "source": [
    "#### 2) How many of them are not placed?"
   ]
  },
  {
   "cell_type": "code",
   "execution_count": null,
   "id": "1677377a-1a72-4719-88af-f90a31175c0a",
   "metadata": {},
   "outputs": [],
   "source": [
    "Not_Placed = dataset[dataset['status']==\"Not Placed\"]\n",
    "No_of_Not_Placed = len(Not_Placed.index)\n",
    "print(No_of_Not_Placed, \"Students are Not Placed\")"
   ]
  },
  {
   "cell_type": "markdown",
   "id": "770c28a5",
   "metadata": {
    "jp-MarkdownHeadingCollapsed": true
   },
   "source": [
    "#### 3) Find the reason for non placement from the dataset?"
   ]
  },
  {
   "cell_type": "code",
   "execution_count": null,
   "id": "4939395d-1cca-408d-acc7-2b9c71571823",
   "metadata": {},
   "outputs": [],
   "source": [
    "quan = [col for col in dataset.columns if dataset[col].dtype != 'O']\n",
    "dataset[quan].corr()"
   ]
  },
  {
   "cell_type": "markdown",
   "id": "e05861d9-c274-4969-ac92-68093faa5c8f",
   "metadata": {},
   "source": [
    "<b> Since, SSC, HSC and Degree marks are highly correllated with salary, they maybe the reason for the placement of a candidate </b>"
   ]
  },
  {
   "cell_type": "code",
   "execution_count": null,
   "id": "198d1185-6ca4-4a8a-8ddf-810919c44416",
   "metadata": {},
   "outputs": [],
   "source": [
    "below_avg_ssc = 0\n",
    "below_avg_hsc = 0\n",
    "below_avg_degree = 0\n",
    "\n",
    "for index, row in dataset.iterrows():\n",
    "    ssc_p = row[\"ssc_p\"]\n",
    "    hsc_p = row[\"hsc_p\"]\n",
    "    degree_p = row[\"degree_p\"]\n",
    "    status = row[\"status\"]\n",
    "    \n",
    "    if ssc_p <= 57 and status == \"Not Placed\":\n",
    "        below_avg_ssc += 1\n",
    "    elif hsc_p <= 58 and status == \"Not Placed\":\n",
    "        below_avg_hsc += 1\n",
    "    elif degree_p <= 69 and status == \"Not Placed\":\n",
    "        below_avg_degree += 1\n",
    "\n",
    "if below_avg_ssc > below_avg_hsc > below_avg_degree:\n",
    "    print(\"Those who scored less in SSC and HSC are not placed\")\n",
    "elif below_avg_ssc > below_avg_degree > below_avg_hsc:\n",
    "    print(\"Those who scored less in SSC and degree are not placed\")\n",
    "elif below_avg_hsc > below_avg_degree > below_avg_ssc:\n",
    "    print(\"Those who scored less in HSC and degree are not placed\")\n",
    "elif below_avg_hsc > below_avg_ssc > below_avg_degree:\n",
    "    print(\"Those who scored less in HSC and SSC are not placed\")\n",
    "elif below_avg_degree > below_avg_ssc > below_avg_hsc:\n",
    "    print(\"Those who scored less in degree and SSC are not placed\")\n",
    "elif below_avg_degree > below_avg_hsc > below_avg_ssc:\n",
    "    print(\"Those who scored less in degree and HSC are not placed\")"
   ]
  },
  {
   "cell_type": "markdown",
   "id": "c3ae267d",
   "metadata": {
    "jp-MarkdownHeadingCollapsed": true
   },
   "source": [
    "#### 4) What kind of relation between salary and mba_p"
   ]
  },
  {
   "cell_type": "code",
   "execution_count": null,
   "id": "4d794a15-58aa-4ea2-91db-74f833231827",
   "metadata": {},
   "outputs": [],
   "source": [
    "quan = [col for col in dataset.columns if dataset[col].dtype != 'O']"
   ]
  },
  {
   "cell_type": "code",
   "execution_count": null,
   "id": "eb1cc9b2-47c5-4a91-a453-3260466fede3",
   "metadata": {},
   "outputs": [],
   "source": [
    "dataset[quan].corr()"
   ]
  },
  {
   "cell_type": "code",
   "execution_count": null,
   "id": "32bc03e1-9c03-45ac-95e4-09b15dcd0d63",
   "metadata": {},
   "outputs": [],
   "source": [
    "# Salary and MBA_p has low Degree Positive Correlation with a value of 0.13 which is less than 0.54"
   ]
  },
  {
   "cell_type": "markdown",
   "id": "0bc96884",
   "metadata": {
    "jp-MarkdownHeadingCollapsed": true
   },
   "source": [
    "#### 5) Which specialization is getting minimum salary?"
   ]
  },
  {
   "cell_type": "code",
   "execution_count": null,
   "id": "719e0633-db06-4bc4-a961-e87ce03f1252",
   "metadata": {},
   "outputs": [],
   "source": [
    "Mkt_HR = dataset[dataset['specialisation']==\"Mkt&HR\"]['salary']\n",
    "Mkt_Fin = dataset[dataset['specialisation']==\"Mkt&Fin\"]['salary']\n",
    "\n",
    "Mkt_HR_Sal = Mkt_HR.mean()\n",
    "Mkt_Fin_Sal = Mkt_Fin.mean()\n",
    "\n",
    "if(Mkt_HR_Sal < Mkt_Fin_Sal):\n",
    "    difference = Mkt_Fin_Sal - Mkt_HR_Sal\n",
    "    print(\"Marketing and Finance gets higher salary than Marketing and HR with ₹\",difference)\n",
    "else:\n",
    "    difference = Mkt_HR_Sal - Mkt_Fin_Sal\n",
    "    print(\"Marketing and HR gets higher salary than Marketing and Finance with ₹\",difference)"
   ]
  },
  {
   "cell_type": "markdown",
   "id": "1e5a5616",
   "metadata": {
    "jp-MarkdownHeadingCollapsed": true
   },
   "source": [
    "#### 6) How many of them getting above 500000 salary?"
   ]
  },
  {
   "cell_type": "code",
   "execution_count": null,
   "id": "b284e1a4-8306-49e5-ab45-09cf78c1dd0b",
   "metadata": {},
   "outputs": [],
   "source": [
    "list = 0\n",
    "for sal in dataset['salary']:\n",
    "    if (sal < 500000):\n",
    "        list+=1\n",
    "\n",
    "print(list,\"Of the Placed students getting the salary above 500000\")"
   ]
  },
  {
   "cell_type": "markdown",
   "id": "99a54f6d",
   "metadata": {
    "jp-MarkdownHeadingCollapsed": true
   },
   "source": [
    "#### 7) Test the Analysis of Variance between etest_p and mba_p at signifance level 5%.(Make decision using Hypothesis Testing)"
   ]
  },
  {
   "cell_type": "code",
   "execution_count": null,
   "id": "ac7b3aad-2808-4dfa-95fa-393551964e97",
   "metadata": {},
   "outputs": [],
   "source": [
    "stats.f_oneway(dataset['etest_p'],dataset['mba_p'])\n",
    "print('There is a Significant Differeance between Enterance test and MBA Pass mark')"
   ]
  },
  {
   "cell_type": "markdown",
   "id": "20e436ee",
   "metadata": {
    "jp-MarkdownHeadingCollapsed": true
   },
   "source": [
    "#### 8) Test the similarity between the degree_t(Sci&Tech) and specialisation(Mkt&HR) with respect to salary  at significance level of 5%.(Make decision using Hypothesis Testing)"
   ]
  },
  {
   "cell_type": "code",
   "execution_count": null,
   "id": "5d3c3372-cf95-4678-84f5-e11dbd611b96",
   "metadata": {},
   "outputs": [],
   "source": [
    "Sci_Tech = dataset[dataset['degree_t']==\"Sci&Tech\"]['salary']\n",
    "Mkt_HR = dataset[dataset['specialisation']==\"Mkt&HR\"]['salary']\n",
    "\n",
    "print(stats.ttest_ind(Sci_Tech, Mkt_HR))\n",
    "\n",
    "print(\"Accept Alternate Hypothesis since p value is less than 0.05. Threfore, there is a similarity between the degree_t(Sci&Tech) and specialisation(Mkt&HR) with respect to salary\")"
   ]
  },
  {
   "cell_type": "code",
   "execution_count": null,
   "id": "b94b070d-985a-4efc-9878-b2a5a105a908",
   "metadata": {},
   "outputs": [],
   "source": [
    "import warnings\n",
    "warnings.filterwarnings(\"ignore\")"
   ]
  },
  {
   "cell_type": "markdown",
   "id": "c96ff6b6",
   "metadata": {
    "jp-MarkdownHeadingCollapsed": true
   },
   "source": [
    "#### 9) Convert the normal distribution to standard normal distribution for salary column"
   ]
  },
  {
   "cell_type": "code",
   "execution_count": null,
   "id": "e1b953bd-0362-4375-b7e8-134fe3401380",
   "metadata": {},
   "outputs": [],
   "source": [
    "def stdNBgraph(dataset):\n",
    "        # Coverted to standard Normal Distribution\n",
    "    mean=dataset.mean()\n",
    "    std=dataset.std()\n",
    "\n",
    "    values=[i for i in dataset]\n",
    "\n",
    "    z_score=[((j-mean)/std) for j in values]\n",
    "\n",
    "    sns.distplot(z_score,kde=True)\n",
    "\n",
    "    sum(z_score)/len(z_score)\n",
    "    #z_score.std()\n",
    "\n",
    "stdNBgraph(dataset[\"salary\"])"
   ]
  },
  {
   "cell_type": "markdown",
   "id": "60d16a57",
   "metadata": {
    "jp-MarkdownHeadingCollapsed": true
   },
   "source": [
    "####  10) What is the probability Density Function of the salary range from 700000 to 900000?"
   ]
  },
  {
   "cell_type": "code",
   "execution_count": null,
   "id": "1ff7b520-961e-434c-a9ba-adb92167149c",
   "metadata": {},
   "outputs": [],
   "source": [
    "def get_pdf_probability(dataset,startrange,endrange):\n",
    "    ax = sns.distplot(dataset,kde=True,kde_kws={'color':'blue'},color='Green')\n",
    "    pyplot.axvline(startrange,color='Red')\n",
    "    pyplot.axvline(endrange,color='Red')\n",
    "    # generate a sample\n",
    "    sample = dataset\n",
    "    # calculate parameters\n",
    "    sample_mean =sample.mean()\n",
    "    sample_std = sample.std()\n",
    "    print('Mean=%.3f, Standard Deviation=%.3f' % (sample_mean, sample_std))\n",
    "    # define the distribution\n",
    "    dist = norm(sample_mean, sample_std)\n",
    "    \n",
    "    # sample probabilities for a range of outcomes\n",
    "    values = [value for value in range(startrange, endrange)]\n",
    "    probabilities = [dist.pdf(value) for value in values]    \n",
    "    prob=sum(probabilities)\n",
    "    print(\"The area between range({},{}):{}\".format(startrange,endrange,sum(probabilities)))\n",
    "    return prob\n",
    "\n",
    "get_pdf_probability(dataset[\"salary\"],700000,900000)"
   ]
  },
  {
   "cell_type": "markdown",
   "id": "95445f7f",
   "metadata": {
    "jp-MarkdownHeadingCollapsed": true
   },
   "source": [
    "#### 11) Test the similarity between the degree_t(Sci&Tech)with respect to etest_p and mba_p at significance level of 5%.(Make decision using Hypothesis Testing)"
   ]
  },
  {
   "cell_type": "code",
   "execution_count": null,
   "id": "93486732-3301-49f7-a0b0-d8cb296d8f9e",
   "metadata": {},
   "outputs": [],
   "source": [
    "Etest = dataset[dataset['degree_t']==\"Sci&Tech\"]['etest_p']\n",
    "MBA = dataset[dataset['degree_t']==\"Sci&Tech\"]['mba_p']\n",
    "\n",
    "print(stats.ttest_ind(Etest, MBA))\n",
    "\n",
    "print(\"Accept Null Hypothesis since p value is Greater than 0.05. Threfore, there is a significant Difference between the degree_t(Sci&Tech)with respect to etest_p and mba_p at significance level of 5%\")"
   ]
  },
  {
   "cell_type": "markdown",
   "id": "d4c03be2",
   "metadata": {
    "jp-MarkdownHeadingCollapsed": true
   },
   "source": [
    "#### 12) Which parameter is highly correlated with salary?"
   ]
  },
  {
   "cell_type": "code",
   "execution_count": null,
   "id": "a7da89cd-7435-4fc3-acb2-0f8878efc8a5",
   "metadata": {},
   "outputs": [],
   "source": [
    "dataset[quan].corr()"
   ]
  },
  {
   "cell_type": "code",
   "execution_count": null,
   "id": "a09b6398-466d-4147-9af6-d9e349898c83",
   "metadata": {},
   "outputs": [],
   "source": [
    "# SSC_P is Higly correlated with salary with 53%"
   ]
  },
  {
   "cell_type": "markdown",
   "id": "d394bcb2",
   "metadata": {
    "jp-MarkdownHeadingCollapsed": true
   },
   "source": [
    "#### 13) plot  any useful graph and explain it."
   ]
  },
  {
   "cell_type": "code",
   "execution_count": null,
   "id": "f5985e5d-52bb-4539-b5b4-6b2fe26e2a96",
   "metadata": {},
   "outputs": [],
   "source": [
    "sns.pairplot(dataset)"
   ]
  },
  {
   "cell_type": "markdown",
   "id": "4df65304-5286-4436-96bd-d95ec5640cb7",
   "metadata": {},
   "source": [
    "<img src=\"https://www.banish.in/bio.jpg\" alt=\"Banish J\" class=\"bg-primary\">"
   ]
  },
  {
   "cell_type": "markdown",
   "id": "af6a2ab4",
   "metadata": {},
   "source": [
    "##### <center> Prepared by [Banish J](www.banish.in) Mentored by [Ramisha Rani Mam](www.hopelearning.net) <center>"
   ]
  }
 ],
 "metadata": {
  "kernelspec": {
   "display_name": "Python 3 (ipykernel)",
   "language": "python",
   "name": "python3"
  },
  "language_info": {
   "codemirror_mode": {
    "name": "ipython",
    "version": 3
   },
   "file_extension": ".py",
   "mimetype": "text/x-python",
   "name": "python",
   "nbconvert_exporter": "python",
   "pygments_lexer": "ipython3",
   "version": "3.11.7"
  }
 },
 "nbformat": 4,
 "nbformat_minor": 5
}
